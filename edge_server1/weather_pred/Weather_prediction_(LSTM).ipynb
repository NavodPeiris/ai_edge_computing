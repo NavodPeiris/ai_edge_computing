{
  "cells": [
    {
      "cell_type": "code",
      "execution_count": 41,
      "metadata": {
        "id": "bckdSoW4Z9jI"
      },
      "outputs": [],
      "source": [
        "import pandas as pd\n",
        "import numpy as np\n",
        "\n",
        "import matplotlib.pyplot as plt\n",
        "import seaborn as sns\n",
        "\n",
        "from sklearn.model_selection import train_test_split\n",
        "from sklearn.preprocessing import MinMaxScaler\n",
        "import tensorflow as tf"
      ]
    },
    {
      "cell_type": "code",
      "execution_count": 42,
      "metadata": {
        "colab": {
          "base_uri": "https://localhost:8080/",
          "height": 330
        },
        "id": "lzK5F7DRasNl",
        "outputId": "9e346c16-ed92-428c-ebe7-87e6e5879f63"
      },
      "outputs": [
        {
          "name": "stdout",
          "output_type": "stream",
          "text": [
            "100990\n"
          ]
        },
        {
          "data": {
            "text/html": [
              "<div>\n",
              "<style scoped>\n",
              "    .dataframe tbody tr th:only-of-type {\n",
              "        vertical-align: middle;\n",
              "    }\n",
              "\n",
              "    .dataframe tbody tr th {\n",
              "        vertical-align: top;\n",
              "    }\n",
              "\n",
              "    .dataframe thead th {\n",
              "        text-align: right;\n",
              "    }\n",
              "</style>\n",
              "<table border=\"1\" class=\"dataframe\">\n",
              "  <thead>\n",
              "    <tr style=\"text-align: right;\">\n",
              "      <th></th>\n",
              "      <th>datetime_utc</th>\n",
              "      <th>_conds</th>\n",
              "      <th>_dewptm</th>\n",
              "      <th>_fog</th>\n",
              "      <th>_hail</th>\n",
              "      <th>_heatindexm</th>\n",
              "      <th>_hum</th>\n",
              "      <th>_precipm</th>\n",
              "      <th>_pressurem</th>\n",
              "      <th>_rain</th>\n",
              "      <th>_snow</th>\n",
              "      <th>_tempm</th>\n",
              "      <th>_thunder</th>\n",
              "      <th>_tornado</th>\n",
              "      <th>_vism</th>\n",
              "      <th>_wdird</th>\n",
              "      <th>_wdire</th>\n",
              "      <th>_wgustm</th>\n",
              "      <th>_windchillm</th>\n",
              "      <th>_wspdm</th>\n",
              "    </tr>\n",
              "  </thead>\n",
              "  <tbody>\n",
              "    <tr>\n",
              "      <th>0</th>\n",
              "      <td>19961101-11:00</td>\n",
              "      <td>Smoke</td>\n",
              "      <td>9.0</td>\n",
              "      <td>0</td>\n",
              "      <td>0</td>\n",
              "      <td>NaN</td>\n",
              "      <td>27.0</td>\n",
              "      <td>NaN</td>\n",
              "      <td>1010.0</td>\n",
              "      <td>0</td>\n",
              "      <td>0</td>\n",
              "      <td>30.0</td>\n",
              "      <td>0</td>\n",
              "      <td>0</td>\n",
              "      <td>5.0</td>\n",
              "      <td>280.0</td>\n",
              "      <td>West</td>\n",
              "      <td>NaN</td>\n",
              "      <td>NaN</td>\n",
              "      <td>7.4</td>\n",
              "    </tr>\n",
              "    <tr>\n",
              "      <th>1</th>\n",
              "      <td>19961101-12:00</td>\n",
              "      <td>Smoke</td>\n",
              "      <td>10.0</td>\n",
              "      <td>0</td>\n",
              "      <td>0</td>\n",
              "      <td>NaN</td>\n",
              "      <td>32.0</td>\n",
              "      <td>NaN</td>\n",
              "      <td>-9999.0</td>\n",
              "      <td>0</td>\n",
              "      <td>0</td>\n",
              "      <td>28.0</td>\n",
              "      <td>0</td>\n",
              "      <td>0</td>\n",
              "      <td>NaN</td>\n",
              "      <td>0.0</td>\n",
              "      <td>North</td>\n",
              "      <td>NaN</td>\n",
              "      <td>NaN</td>\n",
              "      <td>NaN</td>\n",
              "    </tr>\n",
              "    <tr>\n",
              "      <th>2</th>\n",
              "      <td>19961101-13:00</td>\n",
              "      <td>Smoke</td>\n",
              "      <td>11.0</td>\n",
              "      <td>0</td>\n",
              "      <td>0</td>\n",
              "      <td>NaN</td>\n",
              "      <td>44.0</td>\n",
              "      <td>NaN</td>\n",
              "      <td>-9999.0</td>\n",
              "      <td>0</td>\n",
              "      <td>0</td>\n",
              "      <td>24.0</td>\n",
              "      <td>0</td>\n",
              "      <td>0</td>\n",
              "      <td>NaN</td>\n",
              "      <td>0.0</td>\n",
              "      <td>North</td>\n",
              "      <td>NaN</td>\n",
              "      <td>NaN</td>\n",
              "      <td>NaN</td>\n",
              "    </tr>\n",
              "    <tr>\n",
              "      <th>3</th>\n",
              "      <td>19961101-14:00</td>\n",
              "      <td>Smoke</td>\n",
              "      <td>10.0</td>\n",
              "      <td>0</td>\n",
              "      <td>0</td>\n",
              "      <td>NaN</td>\n",
              "      <td>41.0</td>\n",
              "      <td>NaN</td>\n",
              "      <td>1010.0</td>\n",
              "      <td>0</td>\n",
              "      <td>0</td>\n",
              "      <td>24.0</td>\n",
              "      <td>0</td>\n",
              "      <td>0</td>\n",
              "      <td>2.0</td>\n",
              "      <td>0.0</td>\n",
              "      <td>North</td>\n",
              "      <td>NaN</td>\n",
              "      <td>NaN</td>\n",
              "      <td>NaN</td>\n",
              "    </tr>\n",
              "    <tr>\n",
              "      <th>4</th>\n",
              "      <td>19961101-16:00</td>\n",
              "      <td>Smoke</td>\n",
              "      <td>11.0</td>\n",
              "      <td>0</td>\n",
              "      <td>0</td>\n",
              "      <td>NaN</td>\n",
              "      <td>47.0</td>\n",
              "      <td>NaN</td>\n",
              "      <td>1011.0</td>\n",
              "      <td>0</td>\n",
              "      <td>0</td>\n",
              "      <td>23.0</td>\n",
              "      <td>0</td>\n",
              "      <td>0</td>\n",
              "      <td>1.2</td>\n",
              "      <td>0.0</td>\n",
              "      <td>North</td>\n",
              "      <td>NaN</td>\n",
              "      <td>NaN</td>\n",
              "      <td>0.0</td>\n",
              "    </tr>\n",
              "  </tbody>\n",
              "</table>\n",
              "</div>"
            ],
            "text/plain": [
              "     datetime_utc _conds  _dewptm  _fog  _hail  _heatindexm  _hum  _precipm  \\\n",
              "0  19961101-11:00  Smoke      9.0     0      0          NaN  27.0       NaN   \n",
              "1  19961101-12:00  Smoke     10.0     0      0          NaN  32.0       NaN   \n",
              "2  19961101-13:00  Smoke     11.0     0      0          NaN  44.0       NaN   \n",
              "3  19961101-14:00  Smoke     10.0     0      0          NaN  41.0       NaN   \n",
              "4  19961101-16:00  Smoke     11.0     0      0          NaN  47.0       NaN   \n",
              "\n",
              "   _pressurem  _rain  _snow  _tempm  _thunder  _tornado  _vism  _wdird _wdire  \\\n",
              "0      1010.0      0      0    30.0         0         0    5.0   280.0   West   \n",
              "1     -9999.0      0      0    28.0         0         0    NaN     0.0  North   \n",
              "2     -9999.0      0      0    24.0         0         0    NaN     0.0  North   \n",
              "3      1010.0      0      0    24.0         0         0    2.0     0.0  North   \n",
              "4      1011.0      0      0    23.0         0         0    1.2     0.0  North   \n",
              "\n",
              "   _wgustm  _windchillm  _wspdm  \n",
              "0      NaN          NaN     7.4  \n",
              "1      NaN          NaN     NaN  \n",
              "2      NaN          NaN     NaN  \n",
              "3      NaN          NaN     NaN  \n",
              "4      NaN          NaN     0.0  "
            ]
          },
          "execution_count": 42,
          "metadata": {},
          "output_type": "execute_result"
        }
      ],
      "source": [
        "data_path = 'weather_data/testset.csv'\n",
        "\n",
        "# create pandas dataframe\n",
        "df = pd.read_csv(data_path)\n",
        "\n",
        "# remove spaces on the column\n",
        "df.columns = df.columns.str.lstrip()\n",
        "df.columns = df.columns.str.rstrip()\n",
        "\n",
        "# print out sample dataset\n",
        "print(len(df))\n",
        "df.head()"
      ]
    },
    {
      "cell_type": "code",
      "execution_count": 43,
      "metadata": {
        "colab": {
          "base_uri": "https://localhost:8080/",
          "height": 710
        },
        "id": "oVn4ZzZ0cksW",
        "outputId": "c2b91d52-e39d-4d46-d1fa-5ceea4e51ca4"
      },
      "outputs": [
        {
          "data": {
            "image/png": "[encoded data removed]",
            "text/plain": [
              "<Figure size 1500x1000 with 1 Axes>"
            ]
          },
          "metadata": {},
          "output_type": "display_data"
        }
      ],
      "source": [
        "# plot to see the temperature varience\n",
        "plt.figure(figsize=(15, 10))\n",
        "sns.histplot(df['_tempm'],bins=[i for i in range(0,61,5)], kde=False)\n",
        "plt.title(\"Distribution of Temperatures\")\n",
        "plt.grid()\n",
        "plt.show()"
      ]
    },
    {
      "cell_type": "code",
      "execution_count": 44,
      "metadata": {
        "colab": {
          "base_uri": "https://localhost:8080/",
          "height": 238
        },
        "id": "WAwxaFjtgYjX",
        "outputId": "7cac5dad-5ae7-4351-cdc7-13cd9ee71a98"
      },
      "outputs": [
        {
          "data": {
            "text/html": [
              "<div>\n",
              "<style scoped>\n",
              "    .dataframe tbody tr th:only-of-type {\n",
              "        vertical-align: middle;\n",
              "    }\n",
              "\n",
              "    .dataframe tbody tr th {\n",
              "        vertical-align: top;\n",
              "    }\n",
              "\n",
              "    .dataframe thead th {\n",
              "        text-align: right;\n",
              "    }\n",
              "</style>\n",
              "<table border=\"1\" class=\"dataframe\">\n",
              "  <thead>\n",
              "    <tr style=\"text-align: right;\">\n",
              "      <th></th>\n",
              "      <th>_hum</th>\n",
              "      <th>_rain</th>\n",
              "      <th>_tempm</th>\n",
              "    </tr>\n",
              "    <tr>\n",
              "      <th>datetime_utc</th>\n",
              "      <th></th>\n",
              "      <th></th>\n",
              "      <th></th>\n",
              "    </tr>\n",
              "  </thead>\n",
              "  <tbody>\n",
              "    <tr>\n",
              "      <th>1996-11-01 11:00:00</th>\n",
              "      <td>27.0</td>\n",
              "      <td>0</td>\n",
              "      <td>30.0</td>\n",
              "    </tr>\n",
              "    <tr>\n",
              "      <th>1996-11-01 12:00:00</th>\n",
              "      <td>32.0</td>\n",
              "      <td>0</td>\n",
              "      <td>28.0</td>\n",
              "    </tr>\n",
              "    <tr>\n",
              "      <th>1996-11-01 13:00:00</th>\n",
              "      <td>44.0</td>\n",
              "      <td>0</td>\n",
              "      <td>24.0</td>\n",
              "    </tr>\n",
              "    <tr>\n",
              "      <th>1996-11-01 14:00:00</th>\n",
              "      <td>41.0</td>\n",
              "      <td>0</td>\n",
              "      <td>24.0</td>\n",
              "    </tr>\n",
              "    <tr>\n",
              "      <th>1996-11-01 16:00:00</th>\n",
              "      <td>47.0</td>\n",
              "      <td>0</td>\n",
              "      <td>23.0</td>\n",
              "    </tr>\n",
              "  </tbody>\n",
              "</table>\n",
              "</div>"
            ],
            "text/plain": [
              "                     _hum  _rain  _tempm\n",
              "datetime_utc                            \n",
              "1996-11-01 11:00:00  27.0      0    30.0\n",
              "1996-11-01 12:00:00  32.0      0    28.0\n",
              "1996-11-01 13:00:00  44.0      0    24.0\n",
              "1996-11-01 14:00:00  41.0      0    24.0\n",
              "1996-11-01 16:00:00  47.0      0    23.0"
            ]
          },
          "execution_count": 44,
          "metadata": {},
          "output_type": "execute_result"
        }
      ],
      "source": [
        "# set data index as datetime column\n",
        "df.index = pd.to_datetime(df.datetime_utc)\n",
        "\n",
        "# filter the columns by only the required_columns\n",
        "required_cols = ['_hum', '_rain', '_tempm']\n",
        "df = df[required_cols]\n",
        "df.head()"
      ]
    },
    {
      "cell_type": "code",
      "execution_count": 45,
      "metadata": {
        "colab": {
          "base_uri": "https://localhost:8080/"
        },
        "id": "TGAvO8Z9uUmb",
        "outputId": "47c0cf0e-4647-4546-e26d-9c02bcc5792d"
      },
      "outputs": [
        {
          "data": {
            "text/plain": [
              "_hum      757\n",
              "_rain       0\n",
              "_tempm    673\n",
              "dtype: int64"
            ]
          },
          "execution_count": 45,
          "metadata": {},
          "output_type": "execute_result"
        }
      ],
      "source": [
        "# check number of nan values in dataframe\n",
        "df.isna().sum()"
      ]
    },
    {
      "cell_type": "code",
      "execution_count": 46,
      "metadata": {
        "colab": {
          "base_uri": "https://localhost:8080/",
          "height": 238
        },
        "id": "aSQjx0Prjw3n",
        "outputId": "786359ff-fe66-451d-c69d-d7c0b1f1bce8"
      },
      "outputs": [
        {
          "name": "stderr",
          "output_type": "stream",
          "text": [
            "C:\\Users\\Navod\\AppData\\Local\\Temp\\ipykernel_11852\\923546998.py:2: FutureWarning: DataFrame.fillna with 'method' is deprecated and will raise in a future version. Use obj.ffill() or obj.bfill() instead.\n",
            "  df = df.fillna(method='ffill')\n"
          ]
        },
        {
          "data": {
            "text/html": [
              "<div>\n",
              "<style scoped>\n",
              "    .dataframe tbody tr th:only-of-type {\n",
              "        vertical-align: middle;\n",
              "    }\n",
              "\n",
              "    .dataframe tbody tr th {\n",
              "        vertical-align: top;\n",
              "    }\n",
              "\n",
              "    .dataframe thead th {\n",
              "        text-align: right;\n",
              "    }\n",
              "</style>\n",
              "<table border=\"1\" class=\"dataframe\">\n",
              "  <thead>\n",
              "    <tr style=\"text-align: right;\">\n",
              "      <th></th>\n",
              "      <th>_hum</th>\n",
              "      <th>_rain</th>\n",
              "      <th>_tempm</th>\n",
              "    </tr>\n",
              "    <tr>\n",
              "      <th>datetime_utc</th>\n",
              "      <th></th>\n",
              "      <th></th>\n",
              "      <th></th>\n",
              "    </tr>\n",
              "  </thead>\n",
              "  <tbody>\n",
              "    <tr>\n",
              "      <th>2017-04-24 06:00:00</th>\n",
              "      <td>25.0</td>\n",
              "      <td>0</td>\n",
              "      <td>34.0</td>\n",
              "    </tr>\n",
              "    <tr>\n",
              "      <th>2017-04-24 09:00:00</th>\n",
              "      <td>16.0</td>\n",
              "      <td>0</td>\n",
              "      <td>38.0</td>\n",
              "    </tr>\n",
              "    <tr>\n",
              "      <th>2017-04-24 12:00:00</th>\n",
              "      <td>14.0</td>\n",
              "      <td>0</td>\n",
              "      <td>36.0</td>\n",
              "    </tr>\n",
              "    <tr>\n",
              "      <th>2017-04-24 15:00:00</th>\n",
              "      <td>27.0</td>\n",
              "      <td>0</td>\n",
              "      <td>32.0</td>\n",
              "    </tr>\n",
              "    <tr>\n",
              "      <th>2017-04-24 18:00:00</th>\n",
              "      <td>30.0</td>\n",
              "      <td>0</td>\n",
              "      <td>30.0</td>\n",
              "    </tr>\n",
              "  </tbody>\n",
              "</table>\n",
              "</div>"
            ],
            "text/plain": [
              "                     _hum  _rain  _tempm\n",
              "datetime_utc                            \n",
              "2017-04-24 06:00:00  25.0      0    34.0\n",
              "2017-04-24 09:00:00  16.0      0    38.0\n",
              "2017-04-24 12:00:00  14.0      0    36.0\n",
              "2017-04-24 15:00:00  27.0      0    32.0\n",
              "2017-04-24 18:00:00  30.0      0    30.0"
            ]
          },
          "execution_count": 46,
          "metadata": {},
          "output_type": "execute_result"
        }
      ],
      "source": [
        "# fill the nan values by upper row value\n",
        "df = df.fillna(method='ffill')\n",
        "df.tail()"
      ]
    },
    {
      "cell_type": "code",
      "execution_count": 47,
      "metadata": {
        "colab": {
          "base_uri": "https://localhost:8080/",
          "height": 238
        },
        "id": "_4WyPkpQlc_G",
        "outputId": "d15657bb-3145-4943-efe4-ceb708849861"
      },
      "outputs": [
        {
          "data": {
            "text/html": [
              "<div>\n",
              "<style scoped>\n",
              "    .dataframe tbody tr th:only-of-type {\n",
              "        vertical-align: middle;\n",
              "    }\n",
              "\n",
              "    .dataframe tbody tr th {\n",
              "        vertical-align: top;\n",
              "    }\n",
              "\n",
              "    .dataframe thead th {\n",
              "        text-align: right;\n",
              "    }\n",
              "</style>\n",
              "<table border=\"1\" class=\"dataframe\">\n",
              "  <thead>\n",
              "    <tr style=\"text-align: right;\">\n",
              "      <th></th>\n",
              "      <th>_hum</th>\n",
              "      <th>_rain</th>\n",
              "      <th>_tempm</th>\n",
              "    </tr>\n",
              "    <tr>\n",
              "      <th>datetime_utc</th>\n",
              "      <th></th>\n",
              "      <th></th>\n",
              "      <th></th>\n",
              "    </tr>\n",
              "  </thead>\n",
              "  <tbody>\n",
              "    <tr>\n",
              "      <th>1996-11-01</th>\n",
              "      <td>52.916667</td>\n",
              "      <td>0.0</td>\n",
              "      <td>22.333333</td>\n",
              "    </tr>\n",
              "    <tr>\n",
              "      <th>1996-11-02</th>\n",
              "      <td>48.625000</td>\n",
              "      <td>0.0</td>\n",
              "      <td>22.916667</td>\n",
              "    </tr>\n",
              "    <tr>\n",
              "      <th>1996-11-03</th>\n",
              "      <td>55.958333</td>\n",
              "      <td>0.0</td>\n",
              "      <td>21.791667</td>\n",
              "    </tr>\n",
              "    <tr>\n",
              "      <th>1996-11-04</th>\n",
              "      <td>48.055556</td>\n",
              "      <td>0.0</td>\n",
              "      <td>22.722222</td>\n",
              "    </tr>\n",
              "    <tr>\n",
              "      <th>1996-11-05</th>\n",
              "      <td>29.400000</td>\n",
              "      <td>0.0</td>\n",
              "      <td>27.800000</td>\n",
              "    </tr>\n",
              "    <tr>\n",
              "      <th>1996-11-06</th>\n",
              "      <td>47.875000</td>\n",
              "      <td>0.0</td>\n",
              "      <td>21.937500</td>\n",
              "    </tr>\n",
              "    <tr>\n",
              "      <th>1996-11-07</th>\n",
              "      <td>48.000000</td>\n",
              "      <td>0.0</td>\n",
              "      <td>21.750000</td>\n",
              "    </tr>\n",
              "    <tr>\n",
              "      <th>1996-11-08</th>\n",
              "      <td>45.791667</td>\n",
              "      <td>0.0</td>\n",
              "      <td>21.000000</td>\n",
              "    </tr>\n",
              "    <tr>\n",
              "      <th>1996-11-09</th>\n",
              "      <td>47.181818</td>\n",
              "      <td>0.0</td>\n",
              "      <td>19.909091</td>\n",
              "    </tr>\n",
              "    <tr>\n",
              "      <th>1996-11-10</th>\n",
              "      <td>44.136364</td>\n",
              "      <td>0.0</td>\n",
              "      <td>20.454545</td>\n",
              "    </tr>\n",
              "  </tbody>\n",
              "</table>\n",
              "</div>"
            ],
            "text/plain": [
              "                   _hum  _rain     _tempm\n",
              "datetime_utc                             \n",
              "1996-11-01    52.916667    0.0  22.333333\n",
              "1996-11-02    48.625000    0.0  22.916667\n",
              "1996-11-03    55.958333    0.0  21.791667\n",
              "1996-11-04    48.055556    0.0  22.722222\n",
              "1996-11-05    29.400000    0.0  27.800000\n",
              "1996-11-06    47.875000    0.0  21.937500\n",
              "1996-11-07    48.000000    0.0  21.750000\n",
              "1996-11-08    45.791667    0.0  21.000000\n",
              "1996-11-09    47.181818    0.0  19.909091\n",
              "1996-11-10    44.136364    0.0  20.454545"
            ]
          },
          "execution_count": 47,
          "metadata": {},
          "output_type": "execute_result"
        }
      ],
      "source": [
        "df_final = df.resample('D').mean()\n",
        "df_final.head(10)"
      ]
    },
    {
      "cell_type": "code",
      "execution_count": 48,
      "metadata": {
        "colab": {
          "base_uri": "https://localhost:8080/"
        },
        "id": "ER6nFI1OqOs_",
        "outputId": "a5a25b7e-4d9f-4e81-b0ed-864b407e1f0a"
      },
      "outputs": [
        {
          "data": {
            "text/plain": [
              "_hum      141\n",
              "_rain     141\n",
              "_tempm    141\n",
              "dtype: int64"
            ]
          },
          "execution_count": 48,
          "metadata": {},
          "output_type": "execute_result"
        }
      ],
      "source": [
        "df_final.isna().sum()"
      ]
    },
    {
      "cell_type": "code",
      "execution_count": 49,
      "metadata": {
        "colab": {
          "base_uri": "https://localhost:8080/"
        },
        "id": "pQGt3mEjvgKz",
        "outputId": "a471e001-93b6-4a2b-c55e-3189568265a7"
      },
      "outputs": [
        {
          "name": "stderr",
          "output_type": "stream",
          "text": [
            "C:\\Users\\Navod\\AppData\\Local\\Temp\\ipykernel_11852\\3141159991.py:1: FutureWarning: DataFrame.fillna with 'method' is deprecated and will raise in a future version. Use obj.ffill() or obj.bfill() instead.\n",
            "  df_final = df_final.fillna(method='ffill')\n"
          ]
        },
        {
          "data": {
            "text/plain": [
              "_hum      0\n",
              "_rain     0\n",
              "_tempm    0\n",
              "dtype: int64"
            ]
          },
          "execution_count": 49,
          "metadata": {},
          "output_type": "execute_result"
        }
      ],
      "source": [
        "df_final = df_final.fillna(method='ffill')\n",
        "df_final.isna().sum()"
      ]
    },
    {
      "cell_type": "code",
      "execution_count": 50,
      "metadata": {
        "colab": {
          "base_uri": "https://localhost:8080/"
        },
        "id": "xpK-bdWmvjx-",
        "outputId": "0050d506-c7d2-4003-907f-f14305a27cc0"
      },
      "outputs": [
        {
          "name": "stdout",
          "output_type": "stream",
          "text": [
            "Train X shape: (5978, 7, 3)\n",
            "Train Y shape: (5978,)\n",
            "Test X shape: (1495, 7, 3)\n",
            "Test Y shape: (1495,)\n"
          ]
        }
      ],
      "source": [
        "\n",
        "from sklearn.preprocessing import MinMaxScaler\n",
        "\n",
        "# Normalize the data\n",
        "scaler = MinMaxScaler()\n",
        "scaled_data = scaler.fit_transform(df_final)\n",
        "\n",
        "# Define sequence length and features\n",
        "sequence_length = 7  # Number of time steps in each sequence\n",
        "num_features = len(df_final.columns)\n",
        "\n",
        "# Create sequences and corresponding labels\n",
        "sequences = []\n",
        "labels = []\n",
        "for i in range(len(scaled_data) - sequence_length):\n",
        "    seq = scaled_data[i:i+sequence_length]\n",
        "    label = scaled_data[i+sequence_length][2]  # '_tempm' column index\n",
        "    sequences.append(seq)\n",
        "    labels.append(label)\n",
        "\n",
        "# Convert to numpy arrays\n",
        "sequences = np.array(sequences)\n",
        "labels = np.array(labels)\n",
        "\n",
        "# Split into train and test sets\n",
        "train_size = int(0.8 * len(sequences))\n",
        "train_x, test_x = sequences[:train_size], sequences[train_size:]\n",
        "train_y, test_y = labels[:train_size], labels[train_size:]\n",
        "\n",
        "print(\"Train X shape:\", train_x.shape)\n",
        "print(\"Train Y shape:\", train_y.shape)\n",
        "print(\"Test X shape:\", test_x.shape)\n",
        "print(\"Test Y shape:\", test_y.shape)\n"
      ]
    },
    {
      "cell_type": "code",
      "execution_count": 51,
      "metadata": {
        "id": "7LMQ5nkyw9TE"
      },
      "outputs": [],
      "source": [
        "from tensorflow.keras.models import Sequential\n",
        "from tensorflow.keras.layers import LSTM, Dense, Dropout\n",
        "from tensorflow.keras.callbacks import EarlyStopping, ModelCheckpoint\n",
        "\n",
        "# Create the LSTM model\n",
        "model = Sequential()\n",
        "\n",
        "# Add LSTM layers with dropout\n",
        "model.add(LSTM(units=128, input_shape=(train_x.shape[1], train_x.shape[2]), return_sequences=True))\n",
        "model.add(Dropout(0.2))\n",
        "\n",
        "model.add(LSTM(units=64, return_sequences=True))\n",
        "model.add(Dropout(0.2))\n",
        "\n",
        "model.add(LSTM(units=32, return_sequences=False))\n",
        "model.add(Dropout(0.2))\n",
        "\n",
        "# Add a dense output layer\n",
        "model.add(Dense(units=1))\n",
        "\n",
        "# Compile the model\n",
        "model.compile(optimizer='adam', loss='mean_squared_error')"
      ]
    },
    {
      "cell_type": "code",
      "execution_count": 53,
      "metadata": {
        "colab": {
          "base_uri": "https://localhost:8080/"
        },
        "id": "0Cy2zjpHx4xi",
        "outputId": "7bde1a0f-1eac-4617-89fb-2ef21da5bfd2"
      },
      "outputs": [
        {
          "name": "stdout",
          "output_type": "stream",
          "text": [
            "Model: \"sequential_3\"\n",
            "_________________________________________________________________\n",
            " Layer (type)                Output Shape              Param #   \n",
            "=================================================================\n",
            " lstm_9 (LSTM)               (None, 7, 128)            67584     \n",
            "                                                                 \n",
            " dropout_9 (Dropout)         (None, 7, 128)            0         \n",
            "                                                                 \n",
            " lstm_10 (LSTM)              (None, 7, 64)             49408     \n",
            "                                                                 \n",
            " dropout_10 (Dropout)        (None, 7, 64)             0         \n",
            "                                                                 \n",
            " lstm_11 (LSTM)              (None, 32)                12416     \n",
            "                                                                 \n",
            " dropout_11 (Dropout)        (None, 32)                0         \n",
            "                                                                 \n",
            " dense_3 (Dense)             (None, 1)                 33        \n",
            "                                                                 \n",
            "=================================================================\n",
            "Total params: 129441 (505.63 KB)\n",
            "Trainable params: 129441 (505.63 KB)\n",
            "Non-trainable params: 0 (0.00 Byte)\n",
            "_________________________________________________________________\n"
          ]
        }
      ],
      "source": [
        "model.summary()"
      ]
    },
    {
      "cell_type": "code",
      "execution_count": 54,
      "metadata": {
        "colab": {
          "base_uri": "https://localhost:8080/"
        },
        "id": "wPYkUUi-x7um",
        "outputId": "5dfc902b-b0be-41da-d07c-bebf628e75c6"
      },
      "outputs": [
        {
          "name": "stdout",
          "output_type": "stream",
          "text": [
            "Epoch 1/100\n",
            "75/75 [==============================] - 7s 31ms/step - loss: 0.0362 - val_loss: 0.0049\n",
            "Epoch 2/100\n",
            " 9/75 [==>...........................] - ETA: 1s - loss: 0.0095"
          ]
        },
        {
          "name": "stderr",
          "output_type": "stream",
          "text": [
            "c:\\Users\\Navod\\AppData\\Local\\Programs\\Python\\Python39\\lib\\site-packages\\keras\\src\\engine\\training.py:3103: UserWarning: You are saving your model as an HDF5 file via `model.save()`. This file format is considered legacy. We recommend using instead the native Keras format, e.g. `model.save('my_model.keras')`.\n",
            "  saving_api.save_model(\n"
          ]
        },
        {
          "name": "stdout",
          "output_type": "stream",
          "text": [
            "75/75 [==============================] - 1s 18ms/step - loss: 0.0097 - val_loss: 0.0044\n",
            "Epoch 3/100\n",
            "75/75 [==============================] - 1s 18ms/step - loss: 0.0088 - val_loss: 0.0044\n",
            "Epoch 4/100\n",
            "75/75 [==============================] - 1s 18ms/step - loss: 0.0085 - val_loss: 0.0043\n",
            "Epoch 5/100\n",
            "75/75 [==============================] - 1s 18ms/step - loss: 0.0082 - val_loss: 0.0040\n",
            "Epoch 6/100\n",
            "75/75 [==============================] - 1s 18ms/step - loss: 0.0078 - val_loss: 0.0039\n",
            "Epoch 7/100\n",
            "75/75 [==============================] - 1s 18ms/step - loss: 0.0076 - val_loss: 0.0037\n",
            "Epoch 8/100\n",
            "75/75 [==============================] - 1s 17ms/step - loss: 0.0070 - val_loss: 0.0043\n",
            "Epoch 9/100\n",
            "75/75 [==============================] - 1s 18ms/step - loss: 0.0071 - val_loss: 0.0036\n",
            "Epoch 10/100\n",
            "75/75 [==============================] - 1s 17ms/step - loss: 0.0071 - val_loss: 0.0047\n",
            "Epoch 11/100\n",
            "75/75 [==============================] - 1s 19ms/step - loss: 0.0067 - val_loss: 0.0036\n",
            "Epoch 12/100\n",
            "75/75 [==============================] - 1s 18ms/step - loss: 0.0066 - val_loss: 0.0033\n",
            "Epoch 13/100\n",
            "75/75 [==============================] - 1s 18ms/step - loss: 0.0061 - val_loss: 0.0032\n",
            "Epoch 14/100\n",
            "75/75 [==============================] - 1s 17ms/step - loss: 0.0060 - val_loss: 0.0033\n",
            "Epoch 15/100\n",
            "75/75 [==============================] - 1s 18ms/step - loss: 0.0056 - val_loss: 0.0030\n",
            "Epoch 16/100\n",
            "75/75 [==============================] - 1s 18ms/step - loss: 0.0053 - val_loss: 0.0029\n",
            "Epoch 17/100\n",
            "75/75 [==============================] - 1s 18ms/step - loss: 0.0053 - val_loss: 0.0032\n",
            "Epoch 18/100\n",
            "75/75 [==============================] - 1s 17ms/step - loss: 0.0053 - val_loss: 0.0030\n",
            "Epoch 19/100\n",
            "75/75 [==============================] - 1s 18ms/step - loss: 0.0050 - val_loss: 0.0027\n",
            "Epoch 20/100\n",
            "75/75 [==============================] - 1s 18ms/step - loss: 0.0048 - val_loss: 0.0026\n",
            "Epoch 21/100\n",
            "75/75 [==============================] - 1s 18ms/step - loss: 0.0048 - val_loss: 0.0026\n",
            "Epoch 22/100\n",
            "75/75 [==============================] - 1s 18ms/step - loss: 0.0046 - val_loss: 0.0027\n",
            "Epoch 23/100\n",
            "75/75 [==============================] - 1s 17ms/step - loss: 0.0047 - val_loss: 0.0029\n",
            "Epoch 24/100\n",
            "75/75 [==============================] - 1s 18ms/step - loss: 0.0044 - val_loss: 0.0025\n",
            "Epoch 25/100\n",
            "75/75 [==============================] - 1s 18ms/step - loss: 0.0043 - val_loss: 0.0024\n",
            "Epoch 26/100\n",
            "75/75 [==============================] - 1s 17ms/step - loss: 0.0043 - val_loss: 0.0027\n",
            "Epoch 27/100\n",
            "75/75 [==============================] - 1s 18ms/step - loss: 0.0040 - val_loss: 0.0024\n",
            "Epoch 28/100\n",
            "75/75 [==============================] - 1s 18ms/step - loss: 0.0041 - val_loss: 0.0024\n",
            "Epoch 29/100\n",
            "75/75 [==============================] - 1s 17ms/step - loss: 0.0041 - val_loss: 0.0028\n",
            "Epoch 30/100\n",
            "75/75 [==============================] - 1s 18ms/step - loss: 0.0041 - val_loss: 0.0023\n",
            "Epoch 31/100\n",
            "75/75 [==============================] - 1s 18ms/step - loss: 0.0039 - val_loss: 0.0028\n",
            "Epoch 32/100\n",
            "75/75 [==============================] - 1s 17ms/step - loss: 0.0040 - val_loss: 0.0024\n",
            "Epoch 33/100\n",
            "75/75 [==============================] - 1s 18ms/step - loss: 0.0038 - val_loss: 0.0023\n",
            "Epoch 34/100\n",
            "75/75 [==============================] - 1s 18ms/step - loss: 0.0037 - val_loss: 0.0022\n",
            "Epoch 35/100\n",
            "75/75 [==============================] - 1s 18ms/step - loss: 0.0036 - val_loss: 0.0022\n",
            "Epoch 36/100\n",
            "75/75 [==============================] - 1s 18ms/step - loss: 0.0034 - val_loss: 0.0022\n",
            "Epoch 37/100\n",
            "75/75 [==============================] - 1s 18ms/step - loss: 0.0035 - val_loss: 0.0022\n",
            "Epoch 38/100\n",
            "75/75 [==============================] - 1s 18ms/step - loss: 0.0035 - val_loss: 0.0022\n",
            "Epoch 39/100\n",
            "75/75 [==============================] - 1s 18ms/step - loss: 0.0034 - val_loss: 0.0022\n",
            "Epoch 40/100\n",
            "75/75 [==============================] - 1s 18ms/step - loss: 0.0033 - val_loss: 0.0021\n",
            "Epoch 41/100\n",
            "75/75 [==============================] - 1s 17ms/step - loss: 0.0033 - val_loss: 0.0023\n",
            "Epoch 42/100\n",
            "75/75 [==============================] - 1s 18ms/step - loss: 0.0034 - val_loss: 0.0022\n",
            "Epoch 43/100\n",
            "75/75 [==============================] - 1s 18ms/step - loss: 0.0033 - val_loss: 0.0023\n",
            "Epoch 44/100\n",
            "75/75 [==============================] - 1s 18ms/step - loss: 0.0033 - val_loss: 0.0021\n",
            "Epoch 45/100\n",
            "75/75 [==============================] - 1s 17ms/step - loss: 0.0032 - val_loss: 0.0023\n"
          ]
        }
      ],
      "source": [
        "# Define callbacks\n",
        "early_stopping = EarlyStopping(monitor='val_loss', patience=5, restore_best_weights=True)\n",
        "model_checkpoint = ModelCheckpoint('weather_pred_model/weather_pred_model_weights.h5', monitor='val_loss', save_best_only=True)\n",
        "\n",
        "# Train the model\n",
        "history = model.fit(\n",
        "    train_x, train_y,\n",
        "    epochs=100,\n",
        "    batch_size=64,\n",
        "    validation_split=0.2,  # Use part of the training data as validation\n",
        "    callbacks=[early_stopping, model_checkpoint]\n",
        ")"
      ]
    },
    {
      "cell_type": "code",
      "execution_count": 55,
      "metadata": {
        "colab": {
          "base_uri": "https://localhost:8080/"
        },
        "id": "ZfyV-Hj0yWPE",
        "outputId": "d211656e-9649-49d2-c634-0ac046ad801a"
      },
      "outputs": [
        {
          "name": "stdout",
          "output_type": "stream",
          "text": [
            "47/47 [==============================] - 1s 5ms/step - loss: 0.0020\n",
            "Test Loss: 0.0020486388821154833\n"
          ]
        }
      ],
      "source": [
        "# Evaluate the best model on the test set\n",
        "best_model = tf.keras.models.load_model('weather_pred_model/weather_pred_model_weights.h5')\n",
        "test_loss = best_model.evaluate(test_x, test_y)\n",
        "print(\"Test Loss:\", test_loss)"
      ]
    },
    {
      "cell_type": "code",
      "execution_count": 56,
      "metadata": {
        "colab": {
          "base_uri": "https://localhost:8080/",
          "height": 472
        },
        "id": "E-Szq8YAzKWy",
        "outputId": "1ef2f169-f0f3-4d46-d98d-87fcd4c1c2ac"
      },
      "outputs": [
        {
          "data": {
            "image/png": "[encoded data removed]",
            "text/plain": [
              "<Figure size 640x480 with 1 Axes>"
            ]
          },
          "metadata": {},
          "output_type": "display_data"
        }
      ],
      "source": [
        "# Plot training & validation loss values\n",
        "plt.plot(history.history['loss'])\n",
        "plt.plot(history.history['val_loss'])\n",
        "plt.title('Model Loss')\n",
        "plt.xlabel('Epoch')\n",
        "plt.ylabel('Loss')\n",
        "plt.legend(['Train', 'Validation'], loc='upper right')\n",
        "plt.show()"
      ]
    },
    {
      "cell_type": "code",
      "execution_count": 57,
      "metadata": {
        "colab": {
          "base_uri": "https://localhost:8080/"
        },
        "id": "Y4s4upxYzeHX",
        "outputId": "18472660-80e3-4c85-adc0-bb7228b66f22"
      },
      "outputs": [
        {
          "name": "stdout",
          "output_type": "stream",
          "text": [
            "47/47 [==============================] - 1s 6ms/step\n",
            "Mean Absolute Error (MAE): 0.03468157718087304\n",
            "Mean Squared Error (MSE): 0.002048639280978726\n",
            "Root Mean Squared Error (RMSE): 0.045261896568512525\n"
          ]
        }
      ],
      "source": [
        "from sklearn.metrics import mean_absolute_error, mean_squared_error\n",
        "\n",
        "# Assuming you have trained the model and have the 'best_model' object\n",
        "# Also, 'test_x' and 'test_y' should be available\n",
        "\n",
        "# Predict temperatures using the trained model\n",
        "predictions = best_model.predict(test_x)\n",
        "\n",
        "# Calculate evaluation metrics\n",
        "mae = mean_absolute_error(test_y, predictions)\n",
        "mse = mean_squared_error(test_y, predictions)\n",
        "rmse = np.sqrt(mse)\n",
        "\n",
        "print(\"Mean Absolute Error (MAE):\", mae)\n",
        "print(\"Mean Squared Error (MSE):\", mse)\n",
        "print(\"Root Mean Squared Error (RMSE):\", rmse)"
      ]
    },
    {
      "cell_type": "code",
      "execution_count": 58,
      "metadata": {
        "colab": {
          "base_uri": "https://localhost:8080/"
        },
        "id": "HaY9hiz-11ir",
        "outputId": "a47ea188-2c5d-4dde-fa32-ba092cae5aca"
      },
      "outputs": [
        {
          "name": "stdout",
          "output_type": "stream",
          "text": [
            "47/47 [==============================] - 0s 5ms/step\n"
          ]
        }
      ],
      "source": [
        "# y_true values\n",
        "test_y_copies = np.repeat(test_y.reshape(-1, 1), test_x.shape[-1], axis=-1)\n",
        "true_temp = scaler.inverse_transform(test_y_copies)[:,2]\n",
        "\n",
        "# predicted values\n",
        "prediction = best_model.predict(test_x)\n",
        "prediction_copies = np.repeat(prediction, 3, axis=-1)\n",
        "predicted_temp = scaler.inverse_transform(prediction_copies)[:,2]"
      ]
    },
    {
      "cell_type": "code",
      "execution_count": 59,
      "metadata": {
        "colab": {
          "base_uri": "https://localhost:8080/",
          "height": 564
        },
        "id": "2raafK7OzfX9",
        "outputId": "7d296def-e844-4783-b974-21117976713d"
      },
      "outputs": [
        {
          "data": {
            "image/png": "[encoded data removed]",
            "text/plain": [
              "<Figure size 1000x600 with 1 Axes>"
            ]
          },
          "metadata": {},
          "output_type": "display_data"
        }
      ],
      "source": [
        "# Plotting predicted and actual temperatures\n",
        "plt.figure(figsize=(10, 6))\n",
        "plt.plot(df_final.index[-100:], true_temp[-100:], label='Actual')\n",
        "plt.plot(df_final.index[-100:], predicted_temp[-100:], label='Predicted')\n",
        "plt.title('Temperature Prediction vs Actual')\n",
        "plt.xlabel('Time')\n",
        "plt.ylabel('Temperature')\n",
        "plt.legend()\n",
        "plt.show()"
      ]
    },
    {
      "cell_type": "code",
      "execution_count": 60,
      "metadata": {},
      "outputs": [
        {
          "name": "stdout",
          "output_type": "stream",
          "text": [
            "1/1 [==============================] - 1s 901ms/step\n",
            "[[0.10272664]]\n",
            "[22.400414]\n"
          ]
        }
      ],
      "source": [
        "import numpy as np\n",
        "from sklearn.preprocessing import MinMaxScaler\n",
        "\n",
        "# Normalize the data\n",
        "scaler = MinMaxScaler()\n",
        "\n",
        "data = np.array(df_final.head(7))  \n",
        "scaled_data = scaler.fit_transform(data)\n",
        "reshaped_data = np.expand_dims(scaled_data, axis=0)  # Add a batch dimension\n",
        "\n",
        "best_model = tf.keras.models.load_model('weather_pred_model/weather_pred_model_weights.h5')\n",
        "temp_on_8th_day = best_model.predict(reshaped_data)\n",
        "\n",
        "# To revert the scaled temperatures:\n",
        "temp_on_8th_day_copies = np.repeat(temp_on_8th_day, 3, axis=-1)\n",
        "predicted_temp = scaler.inverse_transform(temp_on_10th_day_copies)[:,2]\n",
        "\n",
        "print(temp_on_8th_day)\n",
        "print(predicted_temp)"
      ]
    }
  ],
  "metadata": {
    "accelerator": "GPU",
    "colab": {
      "gpuType": "T4",
      "provenance": []
    },
    "kernelspec": {
      "display_name": "Python 3",
      "name": "python3"
    },
    "language_info": {
      "codemirror_mode": {
        "name": "ipython",
        "version": 3
      },
      "file_extension": ".py",
      "mimetype": "text/x-python",
      "name": "python",
      "nbconvert_exporter": "python",
      "pygments_lexer": "ipython3",
      "version": "3.9.0"
    }
  },
  "nbformat": 4,
  "nbformat_minor": 0
}
