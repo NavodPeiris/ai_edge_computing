{
 "cells": [
  {
   "cell_type": "code",
   "execution_count": 6,
   "metadata": {},
   "outputs": [
    {
     "name": "stdout",
     "output_type": "stream",
     "text": [
      "                DATE_TIME  AMBIENT_TEMPERATURE  MODULE_TEMPERATURE  \\\n",
      "0     2020-05-15 00:00:00            25.184316           22.857507   \n",
      "7     2020-05-15 00:15:00            25.084589           22.761668   \n",
      "14    2020-05-15 00:30:00            24.935753           22.592306   \n",
      "21    2020-05-15 00:45:00            24.846130           22.360852   \n",
      "28    2020-05-15 01:00:00            24.621525           22.165423   \n",
      "...                   ...                  ...                 ...   \n",
      "21869 2020-06-17 22:45:00            22.150570           21.480377   \n",
      "21876 2020-06-17 23:00:00            22.129816           21.389024   \n",
      "21883 2020-06-17 23:15:00            22.008275           20.709211   \n",
      "21890 2020-06-17 23:30:00            21.969495           20.734963   \n",
      "21897 2020-06-17 23:45:00            21.909288           20.427972   \n",
      "\n",
      "       IRRADIATION PLANT_ID  DAILY_YIELD  PERIOD_GENERATION  \n",
      "0              0.0   plant1          0.0                0.0  \n",
      "7              0.0   plant1          0.0                0.0  \n",
      "14             0.0   plant1          0.0                0.0  \n",
      "21             0.0   plant1          0.0                0.0  \n",
      "28             0.0   plant1          0.0                0.0  \n",
      "...            ...      ...          ...                ...  \n",
      "21869          0.0   plant7       5953.0                0.0  \n",
      "21876          0.0   plant7       5953.0                0.0  \n",
      "21883          0.0   plant7       5953.0                0.0  \n",
      "21890          0.0   plant7       5953.0                0.0  \n",
      "21897          0.0   plant7       5953.0                0.0  \n",
      "\n",
      "[21898 rows x 7 columns]\n"
     ]
    }
   ],
   "source": [
    "import pandas as pd\n",
    "\n",
    "# Load the CSV file\n",
    "data = pd.read_csv(\"data/part_1.csv\")\n",
    "\n",
    "# Convert DATE_TIME to datetime format if it's not already\n",
    "data[\"DATE_TIME\"] = pd.to_datetime(data[\"DATE_TIME\"])\n",
    "\n",
    "# Sort by PLANT_ID and DATE_TIME in ascending order\n",
    "data = data.sort_values(by=[\"PLANT_ID\", \"DATE_TIME\"])\n",
    "\n",
    "# Calculate the period generation within each plant group\n",
    "data[\"PERIOD_GENERATION\"] = data.groupby(\"PLANT_ID\")[\"DAILY_YIELD\"].diff().fillna(0)\n",
    "\n",
    "# Replace negative values with 0\n",
    "data[\"PERIOD_GENERATION\"] = data[\"PERIOD_GENERATION\"].clip(lower=0)\n",
    "\n",
    "# Display the updated DataFrame\n",
    "print(data)\n",
    "\n",
    "# Save the updated data to a new CSV file if needed\n",
    "data.to_csv(\"data/updated_part_1.csv\", index=False)\n"
   ]
  }
 ],
 "metadata": {
  "kernelspec": {
   "display_name": "Python 3",
   "language": "python",
   "name": "python3"
  },
  "language_info": {
   "codemirror_mode": {
    "name": "ipython",
    "version": 3
   },
   "file_extension": ".py",
   "mimetype": "text/x-python",
   "name": "python",
   "nbconvert_exporter": "python",
   "pygments_lexer": "ipython3",
   "version": "3.11.8"
  }
 },
 "nbformat": 4,
 "nbformat_minor": 2
}
